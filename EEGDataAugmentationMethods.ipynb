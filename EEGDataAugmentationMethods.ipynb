{
  "nbformat": 4,
  "nbformat_minor": 0,
  "metadata": {
    "colab": {
      "provenance": [],
      "authorship_tag": "ABX9TyMtoK4ha+iLjVwfK73sqbY+",
      "include_colab_link": true
    },
    "kernelspec": {
      "name": "python3",
      "display_name": "Python 3"
    },
    "language_info": {
      "name": "python"
    }
  },
  "cells": [
    {
      "cell_type": "markdown",
      "metadata": {
        "id": "view-in-github",
        "colab_type": "text"
      },
      "source": [
        "<a href=\"https://colab.research.google.com/github/amrzhd/EEGDataAugmentations/blob/main/EEGDataAugmentationMethods.ipynb\" target=\"_parent\"><img src=\"https://colab.research.google.com/assets/colab-badge.svg\" alt=\"Open In Colab\"/></a>"
      ]
    },
    {
      "cell_type": "markdown",
      "source": [
        "#Augmentation Methods for EEG Data"
      ],
      "metadata": {
        "id": "kQyouykOGFL-"
      }
    },
    {
      "cell_type": "markdown",
      "source": [
        "#Sample Dataset: BCI Competition IV 2a"
      ],
      "metadata": {
        "id": "ITdPSkgkGTy8"
      }
    },
    {
      "cell_type": "markdown",
      "source": [
        "##Downloading BCI Competition IV 2a Dataset"
      ],
      "metadata": {
        "id": "gwgVHqBbGcIA"
      }
    },
    {
      "cell_type": "code",
      "execution_count": 1,
      "metadata": {
        "id": "yxnkr9yZGEOy",
        "colab": {
          "base_uri": "https://localhost:8080/"
        },
        "outputId": "81eca570-f4c1-4f66-ce27-ed8109e665e7"
      },
      "outputs": [
        {
          "output_type": "stream",
          "name": "stdout",
          "text": [
            "--2024-05-13 21:30:48--  https://www.bbci.de/competition/download/competition_iv/BCICIV_2a_gdf.zip\n",
            "Resolving www.bbci.de (www.bbci.de)... 130.149.80.149\n",
            "Connecting to www.bbci.de (www.bbci.de)|130.149.80.149|:443... connected.\n",
            "HTTP request sent, awaiting response... 200 OK\n",
            "Length: 439968864 (420M) [application/zip]\n",
            "Saving to: ‘BCICIV_2a_gdf.zip’\n",
            "\n",
            "BCICIV_2a_gdf.zip   100%[===================>] 419.59M   112MB/s    in 3.9s    \n",
            "\n",
            "2024-05-13 21:30:52 (107 MB/s) - ‘BCICIV_2a_gdf.zip’ saved [439968864/439968864]\n",
            "\n"
          ]
        }
      ],
      "source": [
        "!wget https://www.bbci.de/competition/download/competition_iv/BCICIV_2a_gdf.zip"
      ]
    },
    {
      "cell_type": "code",
      "source": [
        "!mkdir -p /content/cleaned_data/"
      ],
      "metadata": {
        "id": "tX4HARNlGf_N"
      },
      "execution_count": 2,
      "outputs": []
    },
    {
      "cell_type": "code",
      "source": [
        "%%capture\n",
        "!unzip /content/BCICIV_2a_gdf.zip -d raw_data"
      ],
      "metadata": {
        "id": "WKl_J9-bGg7B"
      },
      "execution_count": 3,
      "outputs": []
    },
    {
      "cell_type": "markdown",
      "source": [
        "##Installing Packages"
      ],
      "metadata": {
        "id": "PlEDm-DHGmBx"
      }
    },
    {
      "cell_type": "code",
      "source": [
        "%%capture\n",
        "!pip install mne"
      ],
      "metadata": {
        "id": "3lmMpko5Gikv"
      },
      "execution_count": 4,
      "outputs": []
    },
    {
      "cell_type": "markdown",
      "source": [
        "#Libraries Used"
      ],
      "metadata": {
        "id": "c9kU06xdGtNE"
      }
    },
    {
      "cell_type": "code",
      "source": [
        "import mne\n",
        "import os\n",
        "import numpy as np\n",
        "import pandas as pd"
      ],
      "metadata": {
        "id": "FBKWkvbpGqiH"
      },
      "execution_count": 5,
      "outputs": []
    },
    {
      "cell_type": "markdown",
      "source": [
        "##Data Extraction"
      ],
      "metadata": {
        "id": "GK1xYKISHavV"
      }
    },
    {
      "cell_type": "code",
      "source": [
        "raw_data_folder = '/content/raw_data/'\n",
        "cleaned_data_folder = '/content/cleaned_data/'\n",
        "files = os.listdir(raw_data_folder)\n",
        "\n",
        "# Filtering out files with suffix 'E.gdf'\n",
        "filtered_files = [file for file in files if file.endswith('T.gdf')]\n",
        "\n",
        "raw_list = []\n",
        "\n",
        "# Iterating through filtered files\n",
        "for file in filtered_files:\n",
        "    file_path = os.path.join(raw_data_folder, file)\n",
        "\n",
        "    # Reading raw data\n",
        "    raw = mne.io.read_raw_gdf(file_path, eog=['EOG-left', 'EOG-central', 'EOG-right'], preload=True)\n",
        "    # Droping EOG channels\n",
        "    raw.drop_channels(['EOG-left', 'EOG-central', 'EOG-right'])\n",
        "\n",
        "    # High Pass Filtering 4-40 Hz\n",
        "    raw.filter(l_freq=4, h_freq=40, method='iir')\n",
        "\n",
        "    # Notch filter for Removal of Line Voltage\n",
        "    raw.notch_filter(freqs=50)\n",
        "\n",
        "    # Resampling Data\n",
        "    raw.resample(128, npad='auto')\n",
        "\n",
        "    # Saving the modified raw data to a file with .fif suffix\n",
        "    new_file_path = os.path.join(cleaned_data_folder, file[:-4] + '.fif')\n",
        "    raw.save(new_file_path, overwrite=True)\n",
        "    # Appending data to the list\n",
        "    raw_list.append(raw)\n",
        "\n",
        "final_raw = mne.concatenate_raws(raw_list)\n",
        "new_file_path = os.path.join(cleaned_data_folder, 'All_Subjects.fif')\n",
        "final_raw.save(new_file_path, overwrite=True)\n"
      ],
      "metadata": {
        "id": "RoW1GVakHXpH",
        "colab": {
          "base_uri": "https://localhost:8080/"
        },
        "outputId": "497bc824-c6ba-44a9-f30c-8b1765a3e5e8"
      },
      "execution_count": 6,
      "outputs": [
        {
          "output_type": "stream",
          "name": "stdout",
          "text": [
            "Extracting EDF parameters from /content/raw_data/A04T.gdf...\n",
            "GDF file detected\n",
            "Setting channel info structure...\n",
            "Could not determine channel type of the following channels, they will be set as EEG:\n",
            "EEG-Fz, EEG, EEG, EEG, EEG, EEG, EEG, EEG-C3, EEG, EEG-Cz, EEG, EEG-C4, EEG, EEG, EEG, EEG, EEG, EEG, EEG, EEG-Pz, EEG, EEG\n",
            "Creating raw.info structure...\n"
          ]
        },
        {
          "output_type": "stream",
          "name": "stderr",
          "text": [
            "/usr/lib/python3.10/contextlib.py:142: RuntimeWarning: Channel names are not unique, found duplicates for: {'EEG'}. Applying running numbers for duplicates.\n",
            "  next(self.gen)\n"
          ]
        },
        {
          "output_type": "stream",
          "name": "stdout",
          "text": [
            "Reading 0 ... 600914  =      0.000 ...  2403.656 secs...\n",
            "Filtering raw data in 1 contiguous segment\n",
            "Setting up band-pass filter from 4 - 40 Hz\n",
            "\n",
            "IIR filter parameters\n",
            "---------------------\n",
            "Butterworth bandpass zero-phase (two-pass forward and reverse) non-causal filter:\n",
            "- Filter order 16 (effective, after forward-backward)\n",
            "- Cutoffs at 4.00, 40.00 Hz: -6.02, -6.02 dB\n",
            "\n",
            "Filtering raw data in 1 contiguous segment\n",
            "Setting up band-stop filter from 49 - 51 Hz\n",
            "\n",
            "FIR filter parameters\n",
            "---------------------\n",
            "Designing a one-pass, zero-phase, non-causal bandstop filter:\n",
            "- Windowed time-domain design (firwin) method\n",
            "- Hamming window with 0.0194 passband ripple and 53 dB stopband attenuation\n",
            "- Lower passband edge: 49.38\n",
            "- Lower transition bandwidth: 0.50 Hz (-6 dB cutoff frequency: 49.12 Hz)\n",
            "- Upper passband edge: 50.62 Hz\n",
            "- Upper transition bandwidth: 0.50 Hz (-6 dB cutoff frequency: 50.88 Hz)\n",
            "- Filter length: 1651 samples (6.604 s)\n",
            "\n"
          ]
        },
        {
          "output_type": "stream",
          "name": "stderr",
          "text": [
            "[Parallel(n_jobs=1)]: Done  17 tasks      | elapsed:    0.4s\n"
          ]
        },
        {
          "output_type": "stream",
          "name": "stdout",
          "text": [
            "Writing /content/cleaned_data/A04T.fif\n"
          ]
        },
        {
          "output_type": "stream",
          "name": "stderr",
          "text": [
            "<ipython-input-6-dcc496b8ddb2>:30: RuntimeWarning: This filename (/content/cleaned_data/A04T.fif) does not conform to MNE naming conventions. All raw files should end with raw.fif, raw_sss.fif, raw_tsss.fif, _meg.fif, _eeg.fif, _ieeg.fif, raw.fif.gz, raw_sss.fif.gz, raw_tsss.fif.gz, _meg.fif.gz, _eeg.fif.gz or _ieeg.fif.gz\n",
            "  raw.save(new_file_path, overwrite=True)\n"
          ]
        },
        {
          "output_type": "stream",
          "name": "stdout",
          "text": [
            "Closing /content/cleaned_data/A04T.fif\n",
            "[done]\n",
            "Extracting EDF parameters from /content/raw_data/A09T.gdf...\n",
            "GDF file detected\n",
            "Setting channel info structure...\n",
            "Could not determine channel type of the following channels, they will be set as EEG:\n",
            "EEG-Fz, EEG, EEG, EEG, EEG, EEG, EEG, EEG-C3, EEG, EEG-Cz, EEG, EEG-C4, EEG, EEG, EEG, EEG, EEG, EEG, EEG, EEG-Pz, EEG, EEG\n",
            "Creating raw.info structure...\n",
            "Reading 0 ... 673327  =      0.000 ...  2693.308 secs...\n"
          ]
        },
        {
          "output_type": "stream",
          "name": "stderr",
          "text": [
            "/usr/lib/python3.10/contextlib.py:142: RuntimeWarning: Channel names are not unique, found duplicates for: {'EEG'}. Applying running numbers for duplicates.\n",
            "  next(self.gen)\n"
          ]
        },
        {
          "output_type": "stream",
          "name": "stdout",
          "text": [
            "Filtering raw data in 1 contiguous segment\n",
            "Setting up band-pass filter from 4 - 40 Hz\n",
            "\n",
            "IIR filter parameters\n",
            "---------------------\n",
            "Butterworth bandpass zero-phase (two-pass forward and reverse) non-causal filter:\n",
            "- Filter order 16 (effective, after forward-backward)\n",
            "- Cutoffs at 4.00, 40.00 Hz: -6.02, -6.02 dB\n",
            "\n",
            "Filtering raw data in 1 contiguous segment\n",
            "Setting up band-stop filter from 49 - 51 Hz\n",
            "\n",
            "FIR filter parameters\n",
            "---------------------\n",
            "Designing a one-pass, zero-phase, non-causal bandstop filter:\n",
            "- Windowed time-domain design (firwin) method\n",
            "- Hamming window with 0.0194 passband ripple and 53 dB stopband attenuation\n",
            "- Lower passband edge: 49.38\n",
            "- Lower transition bandwidth: 0.50 Hz (-6 dB cutoff frequency: 49.12 Hz)\n",
            "- Upper passband edge: 50.62 Hz\n",
            "- Upper transition bandwidth: 0.50 Hz (-6 dB cutoff frequency: 50.88 Hz)\n",
            "- Filter length: 1651 samples (6.604 s)\n",
            "\n"
          ]
        },
        {
          "output_type": "stream",
          "name": "stderr",
          "text": [
            "[Parallel(n_jobs=1)]: Done  17 tasks      | elapsed:    0.5s\n"
          ]
        },
        {
          "output_type": "stream",
          "name": "stdout",
          "text": [
            "Writing /content/cleaned_data/A09T.fif\n"
          ]
        },
        {
          "output_type": "stream",
          "name": "stderr",
          "text": [
            "<ipython-input-6-dcc496b8ddb2>:30: RuntimeWarning: This filename (/content/cleaned_data/A09T.fif) does not conform to MNE naming conventions. All raw files should end with raw.fif, raw_sss.fif, raw_tsss.fif, _meg.fif, _eeg.fif, _ieeg.fif, raw.fif.gz, raw_sss.fif.gz, raw_tsss.fif.gz, _meg.fif.gz, _eeg.fif.gz or _ieeg.fif.gz\n",
            "  raw.save(new_file_path, overwrite=True)\n"
          ]
        },
        {
          "output_type": "stream",
          "name": "stdout",
          "text": [
            "Closing /content/cleaned_data/A09T.fif\n",
            "[done]\n",
            "Extracting EDF parameters from /content/raw_data/A02T.gdf...\n",
            "GDF file detected\n",
            "Setting channel info structure...\n",
            "Could not determine channel type of the following channels, they will be set as EEG:\n",
            "EEG-Fz, EEG, EEG, EEG, EEG, EEG, EEG, EEG-C3, EEG, EEG-Cz, EEG, EEG-C4, EEG, EEG, EEG, EEG, EEG, EEG, EEG, EEG-Pz, EEG, EEG\n",
            "Creating raw.info structure...\n",
            "Reading 0 ... 677168  =      0.000 ...  2708.672 secs...\n"
          ]
        },
        {
          "output_type": "stream",
          "name": "stderr",
          "text": [
            "/usr/lib/python3.10/contextlib.py:142: RuntimeWarning: Channel names are not unique, found duplicates for: {'EEG'}. Applying running numbers for duplicates.\n",
            "  next(self.gen)\n"
          ]
        },
        {
          "output_type": "stream",
          "name": "stdout",
          "text": [
            "Filtering raw data in 1 contiguous segment\n",
            "Setting up band-pass filter from 4 - 40 Hz\n",
            "\n",
            "IIR filter parameters\n",
            "---------------------\n",
            "Butterworth bandpass zero-phase (two-pass forward and reverse) non-causal filter:\n",
            "- Filter order 16 (effective, after forward-backward)\n",
            "- Cutoffs at 4.00, 40.00 Hz: -6.02, -6.02 dB\n",
            "\n",
            "Filtering raw data in 1 contiguous segment\n",
            "Setting up band-stop filter from 49 - 51 Hz\n",
            "\n",
            "FIR filter parameters\n",
            "---------------------\n",
            "Designing a one-pass, zero-phase, non-causal bandstop filter:\n",
            "- Windowed time-domain design (firwin) method\n",
            "- Hamming window with 0.0194 passband ripple and 53 dB stopband attenuation\n",
            "- Lower passband edge: 49.38\n",
            "- Lower transition bandwidth: 0.50 Hz (-6 dB cutoff frequency: 49.12 Hz)\n",
            "- Upper passband edge: 50.62 Hz\n",
            "- Upper transition bandwidth: 0.50 Hz (-6 dB cutoff frequency: 50.88 Hz)\n",
            "- Filter length: 1651 samples (6.604 s)\n",
            "\n"
          ]
        },
        {
          "output_type": "stream",
          "name": "stderr",
          "text": [
            "[Parallel(n_jobs=1)]: Done  17 tasks      | elapsed:    0.4s\n"
          ]
        },
        {
          "output_type": "stream",
          "name": "stdout",
          "text": [
            "Writing /content/cleaned_data/A02T.fif\n"
          ]
        },
        {
          "output_type": "stream",
          "name": "stderr",
          "text": [
            "<ipython-input-6-dcc496b8ddb2>:30: RuntimeWarning: This filename (/content/cleaned_data/A02T.fif) does not conform to MNE naming conventions. All raw files should end with raw.fif, raw_sss.fif, raw_tsss.fif, _meg.fif, _eeg.fif, _ieeg.fif, raw.fif.gz, raw_sss.fif.gz, raw_tsss.fif.gz, _meg.fif.gz, _eeg.fif.gz or _ieeg.fif.gz\n",
            "  raw.save(new_file_path, overwrite=True)\n"
          ]
        },
        {
          "output_type": "stream",
          "name": "stdout",
          "text": [
            "Closing /content/cleaned_data/A02T.fif\n",
            "[done]\n",
            "Extracting EDF parameters from /content/raw_data/A01T.gdf...\n",
            "GDF file detected\n",
            "Setting channel info structure...\n",
            "Could not determine channel type of the following channels, they will be set as EEG:\n",
            "EEG-Fz, EEG, EEG, EEG, EEG, EEG, EEG, EEG-C3, EEG, EEG-Cz, EEG, EEG-C4, EEG, EEG, EEG, EEG, EEG, EEG, EEG, EEG-Pz, EEG, EEG\n",
            "Creating raw.info structure...\n",
            "Reading 0 ... 672527  =      0.000 ...  2690.108 secs...\n"
          ]
        },
        {
          "output_type": "stream",
          "name": "stderr",
          "text": [
            "/usr/lib/python3.10/contextlib.py:142: RuntimeWarning: Channel names are not unique, found duplicates for: {'EEG'}. Applying running numbers for duplicates.\n",
            "  next(self.gen)\n"
          ]
        },
        {
          "output_type": "stream",
          "name": "stdout",
          "text": [
            "Filtering raw data in 1 contiguous segment\n",
            "Setting up band-pass filter from 4 - 40 Hz\n",
            "\n",
            "IIR filter parameters\n",
            "---------------------\n",
            "Butterworth bandpass zero-phase (two-pass forward and reverse) non-causal filter:\n",
            "- Filter order 16 (effective, after forward-backward)\n",
            "- Cutoffs at 4.00, 40.00 Hz: -6.02, -6.02 dB\n",
            "\n",
            "Filtering raw data in 1 contiguous segment\n",
            "Setting up band-stop filter from 49 - 51 Hz\n",
            "\n",
            "FIR filter parameters\n",
            "---------------------\n",
            "Designing a one-pass, zero-phase, non-causal bandstop filter:\n",
            "- Windowed time-domain design (firwin) method\n",
            "- Hamming window with 0.0194 passband ripple and 53 dB stopband attenuation\n",
            "- Lower passband edge: 49.38\n",
            "- Lower transition bandwidth: 0.50 Hz (-6 dB cutoff frequency: 49.12 Hz)\n",
            "- Upper passband edge: 50.62 Hz\n",
            "- Upper transition bandwidth: 0.50 Hz (-6 dB cutoff frequency: 50.88 Hz)\n",
            "- Filter length: 1651 samples (6.604 s)\n",
            "\n"
          ]
        },
        {
          "output_type": "stream",
          "name": "stderr",
          "text": [
            "[Parallel(n_jobs=1)]: Done  17 tasks      | elapsed:    0.4s\n"
          ]
        },
        {
          "output_type": "stream",
          "name": "stdout",
          "text": [
            "Writing /content/cleaned_data/A01T.fif\n"
          ]
        },
        {
          "output_type": "stream",
          "name": "stderr",
          "text": [
            "<ipython-input-6-dcc496b8ddb2>:30: RuntimeWarning: This filename (/content/cleaned_data/A01T.fif) does not conform to MNE naming conventions. All raw files should end with raw.fif, raw_sss.fif, raw_tsss.fif, _meg.fif, _eeg.fif, _ieeg.fif, raw.fif.gz, raw_sss.fif.gz, raw_tsss.fif.gz, _meg.fif.gz, _eeg.fif.gz or _ieeg.fif.gz\n",
            "  raw.save(new_file_path, overwrite=True)\n"
          ]
        },
        {
          "output_type": "stream",
          "name": "stdout",
          "text": [
            "Closing /content/cleaned_data/A01T.fif\n",
            "[done]\n",
            "Extracting EDF parameters from /content/raw_data/A08T.gdf...\n",
            "GDF file detected\n",
            "Setting channel info structure...\n",
            "Could not determine channel type of the following channels, they will be set as EEG:\n",
            "EEG-Fz, EEG, EEG, EEG, EEG, EEG, EEG, EEG-C3, EEG, EEG-Cz, EEG, EEG-C4, EEG, EEG, EEG, EEG, EEG, EEG, EEG, EEG-Pz, EEG, EEG\n",
            "Creating raw.info structure...\n",
            "Reading 0 ... 675269  =      0.000 ...  2701.076 secs...\n"
          ]
        },
        {
          "output_type": "stream",
          "name": "stderr",
          "text": [
            "/usr/lib/python3.10/contextlib.py:142: RuntimeWarning: Channel names are not unique, found duplicates for: {'EEG'}. Applying running numbers for duplicates.\n",
            "  next(self.gen)\n"
          ]
        },
        {
          "output_type": "stream",
          "name": "stdout",
          "text": [
            "Filtering raw data in 1 contiguous segment\n",
            "Setting up band-pass filter from 4 - 40 Hz\n",
            "\n",
            "IIR filter parameters\n",
            "---------------------\n",
            "Butterworth bandpass zero-phase (two-pass forward and reverse) non-causal filter:\n",
            "- Filter order 16 (effective, after forward-backward)\n",
            "- Cutoffs at 4.00, 40.00 Hz: -6.02, -6.02 dB\n",
            "\n",
            "Filtering raw data in 1 contiguous segment\n",
            "Setting up band-stop filter from 49 - 51 Hz\n",
            "\n",
            "FIR filter parameters\n",
            "---------------------\n",
            "Designing a one-pass, zero-phase, non-causal bandstop filter:\n",
            "- Windowed time-domain design (firwin) method\n",
            "- Hamming window with 0.0194 passband ripple and 53 dB stopband attenuation\n",
            "- Lower passband edge: 49.38\n",
            "- Lower transition bandwidth: 0.50 Hz (-6 dB cutoff frequency: 49.12 Hz)\n",
            "- Upper passband edge: 50.62 Hz\n",
            "- Upper transition bandwidth: 0.50 Hz (-6 dB cutoff frequency: 50.88 Hz)\n",
            "- Filter length: 1651 samples (6.604 s)\n",
            "\n"
          ]
        },
        {
          "output_type": "stream",
          "name": "stderr",
          "text": [
            "[Parallel(n_jobs=1)]: Done  17 tasks      | elapsed:    0.5s\n"
          ]
        },
        {
          "output_type": "stream",
          "name": "stdout",
          "text": [
            "Writing /content/cleaned_data/A08T.fif\n"
          ]
        },
        {
          "output_type": "stream",
          "name": "stderr",
          "text": [
            "<ipython-input-6-dcc496b8ddb2>:30: RuntimeWarning: This filename (/content/cleaned_data/A08T.fif) does not conform to MNE naming conventions. All raw files should end with raw.fif, raw_sss.fif, raw_tsss.fif, _meg.fif, _eeg.fif, _ieeg.fif, raw.fif.gz, raw_sss.fif.gz, raw_tsss.fif.gz, _meg.fif.gz, _eeg.fif.gz or _ieeg.fif.gz\n",
            "  raw.save(new_file_path, overwrite=True)\n"
          ]
        },
        {
          "output_type": "stream",
          "name": "stdout",
          "text": [
            "Closing /content/cleaned_data/A08T.fif\n",
            "[done]\n",
            "Extracting EDF parameters from /content/raw_data/A07T.gdf...\n",
            "GDF file detected\n",
            "Setting channel info structure...\n",
            "Could not determine channel type of the following channels, they will be set as EEG:\n",
            "EEG-Fz, EEG, EEG, EEG, EEG, EEG, EEG, EEG-C3, EEG, EEG-Cz, EEG, EEG-C4, EEG, EEG, EEG, EEG, EEG, EEG, EEG, EEG-Pz, EEG, EEG\n",
            "Creating raw.info structure...\n",
            "Reading 0 ... 681070  =      0.000 ...  2724.280 secs...\n"
          ]
        },
        {
          "output_type": "stream",
          "name": "stderr",
          "text": [
            "/usr/lib/python3.10/contextlib.py:142: RuntimeWarning: Channel names are not unique, found duplicates for: {'EEG'}. Applying running numbers for duplicates.\n",
            "  next(self.gen)\n"
          ]
        },
        {
          "output_type": "stream",
          "name": "stdout",
          "text": [
            "Filtering raw data in 1 contiguous segment\n",
            "Setting up band-pass filter from 4 - 40 Hz\n",
            "\n",
            "IIR filter parameters\n",
            "---------------------\n",
            "Butterworth bandpass zero-phase (two-pass forward and reverse) non-causal filter:\n",
            "- Filter order 16 (effective, after forward-backward)\n",
            "- Cutoffs at 4.00, 40.00 Hz: -6.02, -6.02 dB\n",
            "\n",
            "Filtering raw data in 1 contiguous segment\n",
            "Setting up band-stop filter from 49 - 51 Hz\n",
            "\n",
            "FIR filter parameters\n",
            "---------------------\n",
            "Designing a one-pass, zero-phase, non-causal bandstop filter:\n",
            "- Windowed time-domain design (firwin) method\n",
            "- Hamming window with 0.0194 passband ripple and 53 dB stopband attenuation\n",
            "- Lower passband edge: 49.38\n",
            "- Lower transition bandwidth: 0.50 Hz (-6 dB cutoff frequency: 49.12 Hz)\n",
            "- Upper passband edge: 50.62 Hz\n",
            "- Upper transition bandwidth: 0.50 Hz (-6 dB cutoff frequency: 50.88 Hz)\n",
            "- Filter length: 1651 samples (6.604 s)\n",
            "\n"
          ]
        },
        {
          "output_type": "stream",
          "name": "stderr",
          "text": [
            "[Parallel(n_jobs=1)]: Done  17 tasks      | elapsed:    0.5s\n"
          ]
        },
        {
          "output_type": "stream",
          "name": "stdout",
          "text": [
            "Writing /content/cleaned_data/A07T.fif\n"
          ]
        },
        {
          "output_type": "stream",
          "name": "stderr",
          "text": [
            "<ipython-input-6-dcc496b8ddb2>:30: RuntimeWarning: This filename (/content/cleaned_data/A07T.fif) does not conform to MNE naming conventions. All raw files should end with raw.fif, raw_sss.fif, raw_tsss.fif, _meg.fif, _eeg.fif, _ieeg.fif, raw.fif.gz, raw_sss.fif.gz, raw_tsss.fif.gz, _meg.fif.gz, _eeg.fif.gz or _ieeg.fif.gz\n",
            "  raw.save(new_file_path, overwrite=True)\n"
          ]
        },
        {
          "output_type": "stream",
          "name": "stdout",
          "text": [
            "Closing /content/cleaned_data/A07T.fif\n",
            "[done]\n",
            "Extracting EDF parameters from /content/raw_data/A06T.gdf...\n",
            "GDF file detected\n",
            "Setting channel info structure...\n",
            "Could not determine channel type of the following channels, they will be set as EEG:\n",
            "EEG-Fz, EEG, EEG, EEG, EEG, EEG, EEG, EEG-C3, EEG, EEG-Cz, EEG, EEG-C4, EEG, EEG, EEG, EEG, EEG, EEG, EEG, EEG-Pz, EEG, EEG\n",
            "Creating raw.info structure...\n",
            "Reading 0 ... 678979  =      0.000 ...  2715.916 secs...\n"
          ]
        },
        {
          "output_type": "stream",
          "name": "stderr",
          "text": [
            "/usr/lib/python3.10/contextlib.py:142: RuntimeWarning: Channel names are not unique, found duplicates for: {'EEG'}. Applying running numbers for duplicates.\n",
            "  next(self.gen)\n"
          ]
        },
        {
          "output_type": "stream",
          "name": "stdout",
          "text": [
            "Filtering raw data in 1 contiguous segment\n",
            "Setting up band-pass filter from 4 - 40 Hz\n",
            "\n",
            "IIR filter parameters\n",
            "---------------------\n",
            "Butterworth bandpass zero-phase (two-pass forward and reverse) non-causal filter:\n",
            "- Filter order 16 (effective, after forward-backward)\n",
            "- Cutoffs at 4.00, 40.00 Hz: -6.02, -6.02 dB\n",
            "\n",
            "Filtering raw data in 1 contiguous segment\n",
            "Setting up band-stop filter from 49 - 51 Hz\n",
            "\n",
            "FIR filter parameters\n",
            "---------------------\n",
            "Designing a one-pass, zero-phase, non-causal bandstop filter:\n",
            "- Windowed time-domain design (firwin) method\n",
            "- Hamming window with 0.0194 passband ripple and 53 dB stopband attenuation\n",
            "- Lower passband edge: 49.38\n",
            "- Lower transition bandwidth: 0.50 Hz (-6 dB cutoff frequency: 49.12 Hz)\n",
            "- Upper passband edge: 50.62 Hz\n",
            "- Upper transition bandwidth: 0.50 Hz (-6 dB cutoff frequency: 50.88 Hz)\n",
            "- Filter length: 1651 samples (6.604 s)\n",
            "\n"
          ]
        },
        {
          "output_type": "stream",
          "name": "stderr",
          "text": [
            "[Parallel(n_jobs=1)]: Done  17 tasks      | elapsed:    0.7s\n"
          ]
        },
        {
          "output_type": "stream",
          "name": "stdout",
          "text": [
            "Writing /content/cleaned_data/A06T.fif\n"
          ]
        },
        {
          "output_type": "stream",
          "name": "stderr",
          "text": [
            "<ipython-input-6-dcc496b8ddb2>:30: RuntimeWarning: This filename (/content/cleaned_data/A06T.fif) does not conform to MNE naming conventions. All raw files should end with raw.fif, raw_sss.fif, raw_tsss.fif, _meg.fif, _eeg.fif, _ieeg.fif, raw.fif.gz, raw_sss.fif.gz, raw_tsss.fif.gz, _meg.fif.gz, _eeg.fif.gz or _ieeg.fif.gz\n",
            "  raw.save(new_file_path, overwrite=True)\n"
          ]
        },
        {
          "output_type": "stream",
          "name": "stdout",
          "text": [
            "Closing /content/cleaned_data/A06T.fif\n",
            "[done]\n",
            "Extracting EDF parameters from /content/raw_data/A03T.gdf...\n",
            "GDF file detected\n",
            "Setting channel info structure...\n",
            "Could not determine channel type of the following channels, they will be set as EEG:\n",
            "EEG-Fz, EEG, EEG, EEG, EEG, EEG, EEG, EEG-C3, EEG, EEG-Cz, EEG, EEG-C4, EEG, EEG, EEG, EEG, EEG, EEG, EEG, EEG-Pz, EEG, EEG\n",
            "Creating raw.info structure...\n",
            "Reading 0 ... 660529  =      0.000 ...  2642.116 secs...\n"
          ]
        },
        {
          "output_type": "stream",
          "name": "stderr",
          "text": [
            "/usr/lib/python3.10/contextlib.py:142: RuntimeWarning: Channel names are not unique, found duplicates for: {'EEG'}. Applying running numbers for duplicates.\n",
            "  next(self.gen)\n"
          ]
        },
        {
          "output_type": "stream",
          "name": "stdout",
          "text": [
            "Filtering raw data in 1 contiguous segment\n",
            "Setting up band-pass filter from 4 - 40 Hz\n",
            "\n",
            "IIR filter parameters\n",
            "---------------------\n",
            "Butterworth bandpass zero-phase (two-pass forward and reverse) non-causal filter:\n",
            "- Filter order 16 (effective, after forward-backward)\n",
            "- Cutoffs at 4.00, 40.00 Hz: -6.02, -6.02 dB\n",
            "\n",
            "Filtering raw data in 1 contiguous segment\n",
            "Setting up band-stop filter from 49 - 51 Hz\n",
            "\n",
            "FIR filter parameters\n",
            "---------------------\n",
            "Designing a one-pass, zero-phase, non-causal bandstop filter:\n",
            "- Windowed time-domain design (firwin) method\n",
            "- Hamming window with 0.0194 passband ripple and 53 dB stopband attenuation\n",
            "- Lower passband edge: 49.38\n",
            "- Lower transition bandwidth: 0.50 Hz (-6 dB cutoff frequency: 49.12 Hz)\n",
            "- Upper passband edge: 50.62 Hz\n",
            "- Upper transition bandwidth: 0.50 Hz (-6 dB cutoff frequency: 50.88 Hz)\n",
            "- Filter length: 1651 samples (6.604 s)\n",
            "\n"
          ]
        },
        {
          "output_type": "stream",
          "name": "stderr",
          "text": [
            "[Parallel(n_jobs=1)]: Done  17 tasks      | elapsed:    0.4s\n"
          ]
        },
        {
          "output_type": "stream",
          "name": "stdout",
          "text": [
            "Writing /content/cleaned_data/A03T.fif\n"
          ]
        },
        {
          "output_type": "stream",
          "name": "stderr",
          "text": [
            "<ipython-input-6-dcc496b8ddb2>:30: RuntimeWarning: This filename (/content/cleaned_data/A03T.fif) does not conform to MNE naming conventions. All raw files should end with raw.fif, raw_sss.fif, raw_tsss.fif, _meg.fif, _eeg.fif, _ieeg.fif, raw.fif.gz, raw_sss.fif.gz, raw_tsss.fif.gz, _meg.fif.gz, _eeg.fif.gz or _ieeg.fif.gz\n",
            "  raw.save(new_file_path, overwrite=True)\n"
          ]
        },
        {
          "output_type": "stream",
          "name": "stdout",
          "text": [
            "Closing /content/cleaned_data/A03T.fif\n",
            "[done]\n",
            "Extracting EDF parameters from /content/raw_data/A05T.gdf...\n",
            "GDF file detected\n",
            "Setting channel info structure...\n",
            "Could not determine channel type of the following channels, they will be set as EEG:\n",
            "EEG-Fz, EEG, EEG, EEG, EEG, EEG, EEG, EEG-C3, EEG, EEG-Cz, EEG, EEG-C4, EEG, EEG, EEG, EEG, EEG, EEG, EEG, EEG-Pz, EEG, EEG\n",
            "Creating raw.info structure...\n",
            "Reading 0 ... 686119  =      0.000 ...  2744.476 secs...\n"
          ]
        },
        {
          "output_type": "stream",
          "name": "stderr",
          "text": [
            "/usr/lib/python3.10/contextlib.py:142: RuntimeWarning: Channel names are not unique, found duplicates for: {'EEG'}. Applying running numbers for duplicates.\n",
            "  next(self.gen)\n"
          ]
        },
        {
          "output_type": "stream",
          "name": "stdout",
          "text": [
            "Filtering raw data in 1 contiguous segment\n",
            "Setting up band-pass filter from 4 - 40 Hz\n",
            "\n",
            "IIR filter parameters\n",
            "---------------------\n",
            "Butterworth bandpass zero-phase (two-pass forward and reverse) non-causal filter:\n",
            "- Filter order 16 (effective, after forward-backward)\n",
            "- Cutoffs at 4.00, 40.00 Hz: -6.02, -6.02 dB\n",
            "\n",
            "Filtering raw data in 1 contiguous segment\n",
            "Setting up band-stop filter from 49 - 51 Hz\n",
            "\n",
            "FIR filter parameters\n",
            "---------------------\n",
            "Designing a one-pass, zero-phase, non-causal bandstop filter:\n",
            "- Windowed time-domain design (firwin) method\n",
            "- Hamming window with 0.0194 passband ripple and 53 dB stopband attenuation\n",
            "- Lower passband edge: 49.38\n",
            "- Lower transition bandwidth: 0.50 Hz (-6 dB cutoff frequency: 49.12 Hz)\n",
            "- Upper passband edge: 50.62 Hz\n",
            "- Upper transition bandwidth: 0.50 Hz (-6 dB cutoff frequency: 50.88 Hz)\n",
            "- Filter length: 1651 samples (6.604 s)\n",
            "\n"
          ]
        },
        {
          "output_type": "stream",
          "name": "stderr",
          "text": [
            "[Parallel(n_jobs=1)]: Done  17 tasks      | elapsed:    0.6s\n"
          ]
        },
        {
          "output_type": "stream",
          "name": "stdout",
          "text": [
            "Writing /content/cleaned_data/A05T.fif\n"
          ]
        },
        {
          "output_type": "stream",
          "name": "stderr",
          "text": [
            "<ipython-input-6-dcc496b8ddb2>:30: RuntimeWarning: This filename (/content/cleaned_data/A05T.fif) does not conform to MNE naming conventions. All raw files should end with raw.fif, raw_sss.fif, raw_tsss.fif, _meg.fif, _eeg.fif, _ieeg.fif, raw.fif.gz, raw_sss.fif.gz, raw_tsss.fif.gz, _meg.fif.gz, _eeg.fif.gz or _ieeg.fif.gz\n",
            "  raw.save(new_file_path, overwrite=True)\n"
          ]
        },
        {
          "output_type": "stream",
          "name": "stdout",
          "text": [
            "Closing /content/cleaned_data/A05T.fif\n",
            "[done]\n",
            "Writing /content/cleaned_data/All_Subjects.fif\n"
          ]
        },
        {
          "output_type": "stream",
          "name": "stderr",
          "text": [
            "<ipython-input-6-dcc496b8ddb2>:36: RuntimeWarning: This filename (/content/cleaned_data/All_Subjects.fif) does not conform to MNE naming conventions. All raw files should end with raw.fif, raw_sss.fif, raw_tsss.fif, _meg.fif, _eeg.fif, _ieeg.fif, raw.fif.gz, raw_sss.fif.gz, raw_tsss.fif.gz, _meg.fif.gz, _eeg.fif.gz or _ieeg.fif.gz\n",
            "  final_raw.save(new_file_path, overwrite=True)\n"
          ]
        },
        {
          "output_type": "stream",
          "name": "stdout",
          "text": [
            "Closing /content/cleaned_data/All_Subjects.fif\n",
            "[done]\n"
          ]
        }
      ]
    },
    {
      "cell_type": "markdown",
      "source": [
        "**List of the events**  \n",
        "'1023': 1 Rejected trial  \n",
        "'1072': 2 Eye movements  \n",
        "'276': 3 Idling EEG (eyes open)  \n",
        "'277': 4 Idling EEG (eyes closed)  \n",
        "'32766': 5 Start of a new run  \n",
        "'768': 6 Start of a trial  \n",
        "'769': 7 Cue onset **Left** (class 1) : 0  \n",
        "'770': 8 Cue onset **Right** (class 2) : 1  \n",
        "'771': 9 Cue onset **Foot** (class 3) : 2  \n",
        "'772': 10 Cue onset **Tongue** (class 4): 3"
      ],
      "metadata": {
        "id": "kAqSM66gHhcR"
      }
    },
    {
      "cell_type": "code",
      "source": [
        "events = mne.events_from_annotations(final_raw)\n",
        "events[1]\n"
      ],
      "metadata": {
        "id": "R6DiwP6uHeD4",
        "colab": {
          "base_uri": "https://localhost:8080/"
        },
        "outputId": "1a74d795-d66f-483a-f5f8-12ea31a1a6e9"
      },
      "execution_count": 7,
      "outputs": [
        {
          "output_type": "stream",
          "name": "stdout",
          "text": [
            "Used Annotations descriptions: ['1023', '1072', '276', '277', '32766', '768', '769', '770', '771', '772']\n"
          ]
        },
        {
          "output_type": "execute_result",
          "data": {
            "text/plain": [
              "{'1023': 1,\n",
              " '1072': 2,\n",
              " '276': 3,\n",
              " '277': 4,\n",
              " '32766': 5,\n",
              " '768': 6,\n",
              " '769': 7,\n",
              " '770': 8,\n",
              " '771': 9,\n",
              " '772': 10}"
            ]
          },
          "metadata": {},
          "execution_count": 7
        }
      ]
    },
    {
      "cell_type": "markdown",
      "source": [
        "**Time choice:**  \n",
        "[0.5s, 2,5s] Post Cue:  [3.75s, 5.75s]"
      ],
      "metadata": {
        "id": "SpYLFV6lHnGO"
      }
    },
    {
      "cell_type": "code",
      "source": [
        "epochs = mne.Epochs(final_raw, events[0], event_id=[7, 8, 9, 10], tmin=3.75, tmax=5.75, reject=None, baseline=None, preload=True)\n",
        "eeg_data = epochs.get_data(copy=True)"
      ],
      "metadata": {
        "id": "BoWP9eD2HkBb",
        "colab": {
          "base_uri": "https://localhost:8080/"
        },
        "outputId": "e7941527-e625-4bfb-e237-102878ae77d7"
      },
      "execution_count": 8,
      "outputs": [
        {
          "output_type": "stream",
          "name": "stdout",
          "text": [
            "Not setting metadata\n",
            "2592 matching events found\n",
            "No baseline correction applied\n",
            "0 projection items activated\n",
            "Using data from preloaded Raw for 2592 events and 257 original time points ...\n",
            "0 bad epochs dropped\n"
          ]
        }
      ]
    },
    {
      "cell_type": "code",
      "source": [
        "print(\"Dataset's shape:\",eeg_data.shape)"
      ],
      "metadata": {
        "id": "2tjD_zUAHsRQ",
        "colab": {
          "base_uri": "https://localhost:8080/"
        },
        "outputId": "32f6099a-9693-4b80-a968-91e5619fd31a"
      },
      "execution_count": 9,
      "outputs": [
        {
          "output_type": "stream",
          "name": "stdout",
          "text": [
            "Dataset's shape: (2592, 22, 257)\n"
          ]
        }
      ]
    },
    {
      "cell_type": "markdown",
      "source": [
        "#Jittering"
      ],
      "metadata": {
        "id": "vtSIwJxfG5zy"
      }
    },
    {
      "cell_type": "code",
      "source": [
        "\n",
        "def jittering(data, std_values=(0.03, 0.07, 0.1), mean=0):\n",
        "    \"\"\"\n",
        "    Applys jittering augmentation to EEG data.\n",
        "\n",
        "    Parameters:\n",
        "        data (ndarray): EEG data with shape (samples, channels).\n",
        "        std_values (tuple): Standard deviation values for Gaussian noise.\n",
        "        mean (float): Mean value for Gaussian noise.\n",
        "\n",
        "    Returns:\n",
        "        augmented_data (ndarray): Augmented EEG data with shape (samples, channels).\n",
        "    \"\"\"\n",
        "    augmented_data = []\n",
        "    for std in std_values:\n",
        "        # Generate Gaussian noise\n",
        "        noise = np.random.normal(mean, std, size=data.shape)\n",
        "        # Add noise to the original data\n",
        "        augmented_data.append(data + noise)\n",
        "    augmented_data = np.concatenate(augmented_data, axis=0)\n",
        "    return augmented_data\n"
      ],
      "metadata": {
        "id": "ZIV9q9b_IUFm"
      },
      "execution_count": 10,
      "outputs": []
    },
    {
      "cell_type": "markdown",
      "source": [
        "##Example usage"
      ],
      "metadata": {
        "id": "L06AiLpwJYt2"
      }
    },
    {
      "cell_type": "code",
      "source": [
        "augmented_data = jittering(eeg_data)\n",
        "print(\"Augmented Dataset's shape:\",augmented_data.shape)"
      ],
      "metadata": {
        "id": "y6ZzC_LLIZva",
        "colab": {
          "base_uri": "https://localhost:8080/"
        },
        "outputId": "a695c130-0d98-4a64-8646-6586eaeec521"
      },
      "execution_count": 11,
      "outputs": [
        {
          "output_type": "stream",
          "name": "stdout",
          "text": [
            "Dataset's shape: (7776, 22, 257)\n"
          ]
        }
      ]
    },
    {
      "cell_type": "markdown",
      "source": [
        "#Scaling"
      ],
      "metadata": {
        "id": "31TRKm04JMlw"
      }
    },
    {
      "cell_type": "code",
      "source": [
        "def scaling(data, std_values=(0.03, 0.07, 0.1), mean=1):\n",
        "    \"\"\"\n",
        "    Applys scaling augmentation to EEG data.\n",
        "\n",
        "    Parameters:\n",
        "        data (ndarray): EEG data with shape (samples, channels, time_steps).\n",
        "        std_values (tuple): Standard deviation values for Gaussian distribution.\n",
        "        mean (float): Mean value for Gaussian distribution.\n",
        "\n",
        "    Returns:\n",
        "        augmented_data (ndarray): Augmented EEG data with shape (samples, channels, time_steps).\n",
        "    \"\"\"\n",
        "    augmented_data = []\n",
        "    for std in std_values:\n",
        "        # Generating random scalars from Gaussian distribution\n",
        "        scalars = np.random.normal(mean, std, size=data.shape[:-1])\n",
        "        scalars = scalars[..., np.newaxis]  # Add a new axis for broadcasting\n",
        "        # Multiplying with random scalars\n",
        "        scaled_data = data * scalars\n",
        "        augmented_data.append(scaled_data)\n",
        "    augmented_data = np.concatenate(augmented_data, axis=0)\n",
        "    return augmented_data\n"
      ],
      "metadata": {
        "id": "WMG-4vweJONg"
      },
      "execution_count": 18,
      "outputs": []
    },
    {
      "cell_type": "markdown",
      "source": [
        "##Example usage\n"
      ],
      "metadata": {
        "id": "1ak4SGBfJT1C"
      }
    },
    {
      "cell_type": "code",
      "source": [
        "augmented_data = scaling(eeg_data)\n",
        "print(\"Augmented Dataset's shape:\",augmented_data.shape)"
      ],
      "metadata": {
        "id": "5VZm3XUcJQMu",
        "colab": {
          "base_uri": "https://localhost:8080/"
        },
        "outputId": "86602b2d-e6ab-4b6f-aed0-5c38267c61b4"
      },
      "execution_count": 21,
      "outputs": [
        {
          "output_type": "stream",
          "name": "stdout",
          "text": [
            "Augmented Dataset's shape: (7776, 22, 257)\n"
          ]
        }
      ]
    },
    {
      "cell_type": "markdown",
      "source": [
        "#Mixture of Jittering and Scaling"
      ],
      "metadata": {
        "id": "3kUA5oso5F9G"
      }
    },
    {
      "cell_type": "code",
      "source": [
        "augmented_data = scaling(jittering(eeg_data))\n",
        "print(\"Augmented Dataset's shape:\",augmented_data.shape)"
      ],
      "metadata": {
        "colab": {
          "base_uri": "https://localhost:8080/"
        },
        "id": "eUBbe1N943us",
        "outputId": "e454fa9a-742c-492c-9a62-0952f80f6235"
      },
      "execution_count": 23,
      "outputs": [
        {
          "output_type": "stream",
          "name": "stdout",
          "text": [
            "Augmented Dataset's shape: (23328, 22, 257)\n"
          ]
        }
      ]
    },
    {
      "cell_type": "markdown",
      "source": [
        "#Head-To-Tail"
      ],
      "metadata": {
        "id": "fV7XBhtjG786"
      }
    },
    {
      "cell_type": "code",
      "source": [
        "def head_to_tail(data, length=50):\n",
        "    \"\"\"\n",
        "    Applys head-to-tail augmentation to EEG data.\n",
        "\n",
        "    Parameters:\n",
        "        data (ndarray): EEG data with shape (trials, channels, time_steps).\n",
        "        length (int): Length for head-to-tail augmentation.\n",
        "\n",
        "    Returns:\n",
        "        augmented_data (ndarray): Augmented EEG data with the specified length.\n",
        "    \"\"\"\n",
        "    augmented_data = []\n",
        "    for trial in data:\n",
        "        augmented_trial = np.zeros_like(trial)\n",
        "        for t in range(trial.shape[-1]):  # Loop over the time axis\n",
        "            augmented_trial[..., t] = np.roll(trial[..., t], -t * length)\n",
        "        augmented_data.append(augmented_trial)\n",
        "    augmented_data = np.array(augmented_data)\n",
        "    return np.concatenate([data, augmented_data], axis=0)\n"
      ],
      "metadata": {
        "id": "kWYyRPlP5fQc"
      },
      "execution_count": 35,
      "outputs": []
    },
    {
      "cell_type": "markdown",
      "source": [
        "##Example Usage"
      ],
      "metadata": {
        "id": "4l7cYvRG7qgS"
      }
    },
    {
      "cell_type": "code",
      "source": [
        "augmented_data = head_to_tail(eeg_data)\n",
        "print(\"Augmented Dataset's shape:\",augmented_data.shape)"
      ],
      "metadata": {
        "colab": {
          "base_uri": "https://localhost:8080/"
        },
        "id": "fG4rwwC57sPZ",
        "outputId": "b9a19327-4c6a-4973-9780-6bef1ae59e5e"
      },
      "execution_count": 36,
      "outputs": [
        {
          "output_type": "stream",
          "name": "stdout",
          "text": [
            "Augmented Dataset's shape: (5184, 22, 257)\n"
          ]
        }
      ]
    }
  ]
}